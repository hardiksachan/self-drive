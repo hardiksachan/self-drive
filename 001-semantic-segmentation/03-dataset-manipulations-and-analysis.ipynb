{
 "cells": [
  {
   "cell_type": "markdown",
   "metadata": {},
   "source": [
    "# Environment Setup"
   ]
  },
  {
   "cell_type": "code",
   "execution_count": 1,
   "metadata": {},
   "outputs": [],
   "source": [
    "import os\n",
    "\n",
    "workspace_root = os.environ[\"SELF_DRIVE_CARLA_WORKSPACE\"]\n",
    "project_workspace = os.path.join(workspace_root, \"01-semantic-segmentation\")"
   ]
  },
  {
   "cell_type": "markdown",
   "metadata": {},
   "source": [
    "# Create dataset as csv\n",
    "\n",
    "- Read all images and labels."
   ]
  },
  {
   "cell_type": "code",
   "execution_count": null,
   "metadata": {},
   "outputs": [],
   "source": [
    "rgb_dir = os.path.join(project_workspace, \"out_sem\", \"rgb\")\n",
    "sem_dir = os.path.join(project_workspace, \"out_sem\", \"sem\")\n",
    "\n",
    "images = [f for f in os.listdir(rgb_dir) if f.endswith(\".png\")]\n",
    "\n",
    "print(len(images))"
   ]
  },
  {
   "cell_type": "markdown",
   "metadata": {},
   "source": [
    "- Dump them into a csv file \n",
    "    - headers: image_path, label_path"
   ]
  },
  {
   "cell_type": "code",
   "execution_count": null,
   "metadata": {},
   "outputs": [],
   "source": [
    "import pandas as pd\n",
    "\n",
    "data= {\n",
    "    \"image_path\": [os.path.join(\"out_sem\", \"rgb\", f) for f in images ],\n",
    "    \"label_path\": [os.path.join(\"out_sem\", \"sem\", f) for f in images ],\n",
    "}\n",
    "df = pd.DataFrame(data)\n",
    "\n",
    "df.to_csv(os.path.join(project_workspace, \"dataset.csv\"), index=False)"
   ]
  },
  {
   "cell_type": "markdown",
   "metadata": {},
   "source": [
    "# [GUIDE]  How to reduce dataset"
   ]
  },
  {
   "cell_type": "code",
   "execution_count": 6,
   "metadata": {},
   "outputs": [],
   "source": [
    "import pandas as pd\n",
    "\n",
    "in_pth= os.path.join(project_workspace, \"dataset.csv\")\n",
    "out_pth = os.path.join(project_workspace, \"reduced_dataset.csv\")\n",
    "\n",
    "df = pd.read_csv(in_pth, nrows=None)\n",
    "\n",
    "mask = [i % 37 == 0 for i in range(len(df))]\n",
    "sampled_df = df[mask]\n",
    "sampled_df.to_csv(out_pth, index=False)"
   ]
  },
  {
   "cell_type": "markdown",
   "metadata": {},
   "source": [
    "# Data Analysis"
   ]
  },
  {
   "cell_type": "markdown",
   "metadata": {},
   "source": [
    "1. Load Data"
   ]
  },
  {
   "cell_type": "code",
   "execution_count": 12,
   "metadata": {},
   "outputs": [],
   "source": [
    "from src.segmentation_dataset import SegmentationDataset\n",
    "\n",
    "dataset = SegmentationDataset(os.path.join(project_workspace, \"reduced_dataset.csv\"), project_workspace)"
   ]
  },
  {
   "cell_type": "code",
   "execution_count": 13,
   "metadata": {},
   "outputs": [
    {
     "name": "stdout",
     "output_type": "stream",
     "text": [
      "Batch 0 done\n",
      "Batch 1 done\n",
      "Batch 2 done\n",
      "Batch 3 done\n",
      "Batch 4 done\n",
      "Batch 5 done\n",
      "Batch 6 done\n",
      "Batch 7 done\n",
      "Batch 8 done\n",
      "Batch 9 done\n",
      "Batch 10 done\n",
      "Batch 11 done\n",
      "Batch 12 done\n",
      "Batch 13 done\n",
      "Batch 14 done\n",
      "Batch 15 done\n",
      "Batch 16 done\n",
      "Batch 17 done\n",
      "Batch 18 done\n",
      "Batch 19 done\n"
     ]
    }
   ],
   "source": [
    "import torch\n",
    "from torch.utils.data import DataLoader\n",
    "from src.labels import trainId2label\n",
    "\n",
    "# Increase the batch size if your GPU memory allows\n",
    "data_loader = DataLoader(dataset, batch_size=256, shuffle=False)\n",
    "\n",
    "class_distribution = torch.zeros(len(trainId2label), dtype=torch.int64).cuda()\n",
    "\n",
    "for batch, (_, labels) in enumerate(data_loader):\n",
    "    labels = labels.cuda().view(-1)  # Use non_blocking=True for asynchronous transfer\n",
    "    counts = torch.bincount(labels)\n",
    "    class_distribution[:counts.size(0)] += counts\n",
    "    print(f\"Batch {batch} done\")\n",
    "\n",
    "class_distribution = class_distribution.cpu()\n",
    "\n",
    "class_distribution = {trainId2label[i].name: count.item() for i, count in enumerate(class_distribution)}"
   ]
  },
  {
   "cell_type": "code",
   "execution_count": 15,
   "metadata": {},
   "outputs": [
    {
     "data": {
      "image/png": "[encoded data removed]",
      "text/plain": [
       "<Figure size 640x480 with 1 Axes>"
      ]
     },
     "metadata": {},
     "output_type": "display_data"
    }
   ],
   "source": [
    "import matplotlib.pyplot as plt\n",
    "\n",
    "fig, ax = plt.subplots()\n",
    "ax.bar(class_distribution.keys(), class_distribution.values())\n",
    "plt.xticks(rotation=90)\n",
    "plt.show()\n"
   ]
  },
  {
   "cell_type": "code",
   "execution_count": null,
   "metadata": {},
   "outputs": [],
   "source": []
  }
 ],
 "metadata": {
  "kernelspec": {
   "display_name": "venv",
   "language": "python",
   "name": "python3"
  },
  "language_info": {
   "codemirror_mode": {
    "name": "ipython",
    "version": 3
   },
   "file_extension": ".py",
   "mimetype": "text/x-python",
   "name": "python",
   "nbconvert_exporter": "python",
   "pygments_lexer": "ipython3",
   "version": "3.8.10"
  }
 },
 "nbformat": 4,
 "nbformat_minor": 2
}
