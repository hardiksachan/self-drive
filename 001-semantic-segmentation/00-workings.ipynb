{
 "cells": [
  {
   "cell_type": "markdown",
   "metadata": {},
   "source": [
    "# Setup workspace"
   ]
  },
  {
   "cell_type": "code",
   "execution_count": 1,
   "metadata": {},
   "outputs": [
    {
     "name": "stdout",
     "output_type": "stream",
     "text": [
      "D:\\projects\\self-drive\\workspace\n"
     ]
    }
   ],
   "source": [
    "import os\n",
    "\n",
    "workspace_root = os.environ[\"SELF_DRIVE_CARLA_WORKSPACE\"]\n",
    "print(workspace_root)"
   ]
  },
  {
   "cell_type": "code",
   "execution_count": 2,
   "metadata": {},
   "outputs": [
    {
     "name": "stdout",
     "output_type": "stream",
     "text": [
      "D:\\projects\\self-drive\\workspace\\01-semantic-segmentation\n"
     ]
    }
   ],
   "source": [
    "project_workspace = os.path.join(workspace_root, \"01-semantic-segmentation\")\n",
    "print(project_workspace)"
   ]
  },
  {
   "cell_type": "code",
   "execution_count": 5,
   "metadata": {},
   "outputs": [
    {
     "name": "stdout",
     "output_type": "stream",
     "text": [
      "('D:\\\\projects\\\\self-drive\\\\workspace\\\\01-semantic-segmentation\\\\out_sem\\\\rgb\\\\555.png',)\n"
     ]
    }
   ],
   "source": [
    "import time\n",
    "\n",
    "time_grab = time.time_ns()\n",
    "img_path = os.path.join(\n",
    "                        project_workspace, \"out_sem\", \"rgb\", \"555.png\"\n",
    "                    ),\n",
    "print(img_path)"
   ]
  },
  {
   "cell_type": "code",
   "execution_count": 3,
   "metadata": {},
   "outputs": [
    {
     "name": "stdout",
     "output_type": "stream",
     "text": [
      "D:\\projects\\self-drive\\workspace\\01-semantic-segmentation\\out_sem\\rgb\n",
      "D:\\projects\\self-drive\\workspace\\01-semantic-segmentation\\out_sem\\sem\n"
     ]
    }
   ],
   "source": [
    "rgb_dir = os.path.join(project_workspace, \"out_sem\", \"rgb\")\n",
    "sem_dir = os.path.join(project_workspace, \"out_sem\", \"sem\")\n",
    "\n",
    "print(rgb_dir)\n",
    "print(sem_dir)"
   ]
  },
  {
   "cell_type": "code",
   "execution_count": 4,
   "metadata": {},
   "outputs": [
    {
     "name": "stdout",
     "output_type": "stream",
     "text": [
      "104052\n",
      "02_1714262039061029100.png\n"
     ]
    }
   ],
   "source": [
    "images = [f for f in os.listdir(rgb_dir) if f.endswith(\".png\")]\n",
    "print(len(images))\n",
    "print(images[0])"
   ]
  },
  {
   "cell_type": "code",
   "execution_count": 10,
   "metadata": {},
   "outputs": [
    {
     "name": "stdout",
     "output_type": "stream",
     "text": [
      "104052\n",
      "02_1714262039061029100.png\n"
     ]
    }
   ],
   "source": [
    "images = [f for f in os.listdir(sem_dir) if f.endswith(\".png\")]\n",
    "print(len(images))\n",
    "print(images[0])"
   ]
  },
  {
   "cell_type": "code",
   "execution_count": 8,
   "metadata": {},
   "outputs": [],
   "source": [
    "import cv2\n",
    "\n",
    "frame = cv2.imread(os.path.join(rgb_dir, images[0]))\n",
    "flipped_frame = cv2.flip(frame, 1)\n",
    "cv2.imshow('Original',frame)\n",
    "cv2.waitKey(0)\n",
    "cv2.destroyAllWindows()\n",
    "cv2.imshow('flipped',flipped_frame)\n",
    "cv2.waitKey(0)\n",
    "cv2.destroyAllWindows()"
   ]
  },
  {
   "cell_type": "code",
   "execution_count": null,
   "metadata": {},
   "outputs": [],
   "source": []
  }
 ],
 "metadata": {
  "kernelspec": {
   "display_name": "venv",
   "language": "python",
   "name": "python3"
  },
  "language_info": {
   "codemirror_mode": {
    "name": "ipython",
    "version": 3
   },
   "file_extension": ".py",
   "mimetype": "text/x-python",
   "name": "python",
   "nbconvert_exporter": "python",
   "pygments_lexer": "ipython3",
   "version": "3.8.10"
  }
 },
 "nbformat": 4,
 "nbformat_minor": 2
}
