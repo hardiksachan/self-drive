{
 "cells": [
  {
   "cell_type": "markdown",
   "metadata": {},
   "source": [
    "# Setup workspace"
   ]
  },
  {
   "cell_type": "code",
   "execution_count": 2,
   "metadata": {},
   "outputs": [
    {
     "name": "stdout",
     "output_type": "stream",
     "text": [
      "D:\\projects\\self-drive\\workspace\n"
     ]
    }
   ],
   "source": [
    "import os\n",
    "\n",
    "workspace_root = os.environ[\"SELF_DRIVE_CARLA_WORKSPACE\"]\n",
    "print(workspace_root)"
   ]
  },
  {
   "cell_type": "code",
   "execution_count": 3,
   "metadata": {},
   "outputs": [
    {
     "name": "stdout",
     "output_type": "stream",
     "text": [
      "D:\\projects\\self-drive\\workspace\\01-semantic-segmentation\n"
     ]
    }
   ],
   "source": [
    "project_workspace = os.path.join(workspace_root, \"01-semantic-segmentation\")\n",
    "print(project_workspace)"
   ]
  },
  {
   "cell_type": "code",
   "execution_count": 5,
   "metadata": {},
   "outputs": [
    {
     "name": "stdout",
     "output_type": "stream",
     "text": [
      "('D:\\\\projects\\\\self-drive\\\\workspace\\\\01-semantic-segmentation\\\\out_sem\\\\rgb\\\\555.png',)\n"
     ]
    }
   ],
   "source": [
    "import time\n",
    "\n",
    "time_grab = time.time_ns()\n",
    "img_path = os.path.join(\n",
    "                        project_workspace, \"out_sem\", \"rgb\", \"555.png\"\n",
    "                    ),\n",
    "print(img_path)"
   ]
  },
  {
   "cell_type": "code",
   "execution_count": null,
   "metadata": {},
   "outputs": [],
   "source": []
  }
 ],
 "metadata": {
  "kernelspec": {
   "display_name": "venv",
   "language": "python",
   "name": "python3"
  },
  "language_info": {
   "codemirror_mode": {
    "name": "ipython",
    "version": 3
   },
   "file_extension": ".py",
   "mimetype": "text/x-python",
   "name": "python",
   "nbconvert_exporter": "python",
   "pygments_lexer": "ipython3",
   "version": "3.8.10"
  }
 },
 "nbformat": 4,
 "nbformat_minor": 2
}
