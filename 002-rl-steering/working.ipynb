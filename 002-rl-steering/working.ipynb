{
 "cells": [
  {
   "cell_type": "code",
   "execution_count": 5,
   "metadata": {},
   "outputs": [],
   "source": [
    "import os\n",
    "\n",
    "workspace_root = os.environ[\"SELF_DRIVE_CARLA_WORKSPACE\"]\n",
    "project_workspace = os.path.join(workspace_root, \"02-rl-steering\", \"first_try\")\n",
    "models_root_dir = os.path.join(project_workspace, \"models\")"
   ]
  },
  {
   "cell_type": "code",
   "execution_count": 6,
   "metadata": {},
   "outputs": [],
   "source": [
    "\n",
    "model_files = [os.path.join(dirpath, file) for dirpath, dirnames, files in os.walk(models_root_dir) for file in files]"
   ]
  },
  {
   "cell_type": "code",
   "execution_count": 7,
   "metadata": {},
   "outputs": [
    {
     "data": {
      "text/plain": [
       "['D:\\\\projects\\\\self-drive\\\\workspace\\\\02-rl-steering\\\\first_try\\\\models\\\\1714594579\\\\100.zip',\n",
       " 'D:\\\\projects\\\\self-drive\\\\workspace\\\\02-rl-steering\\\\first_try\\\\models\\\\1714594763\\\\100.zip',\n",
       " 'D:\\\\projects\\\\self-drive\\\\workspace\\\\02-rl-steering\\\\first_try\\\\models\\\\1714594763\\\\200.zip',\n",
       " 'D:\\\\projects\\\\self-drive\\\\workspace\\\\02-rl-steering\\\\first_try\\\\models\\\\1714595067\\\\100.zip',\n",
       " 'D:\\\\projects\\\\self-drive\\\\workspace\\\\02-rl-steering\\\\first_try\\\\models\\\\1714595067\\\\200.zip']"
      ]
     },
     "execution_count": 7,
     "metadata": {},
     "output_type": "execute_result"
    }
   ],
   "source": [
    "model_files"
   ]
  },
  {
   "cell_type": "code",
   "execution_count": 8,
   "metadata": {},
   "outputs": [],
   "source": [
    "model_files.sort(key=lambda x: os.path.getmtime(os.path.join(models_root_dir, x)), reverse=True)\n"
   ]
  },
  {
   "cell_type": "code",
   "execution_count": 9,
   "metadata": {},
   "outputs": [
    {
     "data": {
      "text/plain": [
       "['D:\\\\projects\\\\self-drive\\\\workspace\\\\02-rl-steering\\\\first_try\\\\models\\\\1714595067\\\\200.zip',\n",
       " 'D:\\\\projects\\\\self-drive\\\\workspace\\\\02-rl-steering\\\\first_try\\\\models\\\\1714595067\\\\100.zip',\n",
       " 'D:\\\\projects\\\\self-drive\\\\workspace\\\\02-rl-steering\\\\first_try\\\\models\\\\1714594763\\\\200.zip',\n",
       " 'D:\\\\projects\\\\self-drive\\\\workspace\\\\02-rl-steering\\\\first_try\\\\models\\\\1714594763\\\\100.zip',\n",
       " 'D:\\\\projects\\\\self-drive\\\\workspace\\\\02-rl-steering\\\\first_try\\\\models\\\\1714594579\\\\100.zip']"
      ]
     },
     "execution_count": 9,
     "metadata": {},
     "output_type": "execute_result"
    }
   ],
   "source": [
    "model_files"
   ]
  },
  {
   "cell_type": "code",
   "execution_count": null,
   "metadata": {},
   "outputs": [],
   "source": []
  }
 ],
 "metadata": {
  "kernelspec": {
   "display_name": "venv",
   "language": "python",
   "name": "python3"
  },
  "language_info": {
   "codemirror_mode": {
    "name": "ipython",
    "version": 3
   },
   "file_extension": ".py",
   "mimetype": "text/x-python",
   "name": "python",
   "nbconvert_exporter": "python",
   "pygments_lexer": "ipython3",
   "version": "3.8.10"
  }
 },
 "nbformat": 4,
 "nbformat_minor": 2
}
